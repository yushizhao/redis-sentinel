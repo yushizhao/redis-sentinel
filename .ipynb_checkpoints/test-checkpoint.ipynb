{
 "cells": [
  {
   "cell_type": "code",
   "execution_count": 76,
   "metadata": {},
   "outputs": [],
   "source": [
    "import redis\n",
    "import sys\n",
    "import os\n",
    "from redis.sentinel import Sentinel"
   ]
  },
  {
   "cell_type": "code",
   "execution_count": 101,
   "metadata": {},
   "outputs": [],
   "source": [
    "r1 = redis.Redis(host='localhost', port=6379, db=0, password='123')\n",
    "r2 = redis.Redis(host='localhost', port=6380, db=0)\n",
    "r3 = redis.Redis(host='localhost', port=6381, db=0)\n",
    "\n",
    "p1 = r1.pubsub()\n",
    "p2 = r2.pubsub()\n",
    "p3 = r3.pubsub()\n",
    "\n",
    "sentinel = Sentinel([('localhost', 26379),('localhost', 26380),('localhost', 26381)], socket_timeout=0.1, sentinel_kwargs={'password':'12345678'})\n",
    "master = sentinel.master_for('mymaster', socket_timeout=0.1)\n",
    "slave = sentinel.slave_for('mymaster', socket_timeout=0.1)\n",
    "pmaster = master.pubsub()\n",
    "pslave = slave.pubsub()"
   ]
  },
  {
   "cell_type": "code",
   "execution_count": 102,
   "metadata": {},
   "outputs": [
    {
     "name": "stdout",
     "output_type": "stream",
     "text": [
      "('127.0.0.1', 6379)\n",
      "[('127.0.0.1', 6380), ('127.0.0.1', 6381)]\n"
     ]
    }
   ],
   "source": [
    "print(sentinel.discover_master('mymaster'))\n",
    "# MasterNotFoundError\n",
    "print(sentinel.discover_slaves('mymaster'))"
   ]
  },
  {
   "cell_type": "code",
   "execution_count": 80,
   "metadata": {},
   "outputs": [
    {
     "name": "stdout",
     "output_type": "stream",
     "text": [
      "No master found for 'mymaster'\n"
     ]
    }
   ],
   "source": [
    "try:\n",
    "    print(master.info())\n",
    "except redis.sentinel.MasterNotFoundError as err:\n",
    "    print(err)"
   ]
  },
  {
   "cell_type": "code",
   "execution_count": 83,
   "metadata": {},
   "outputs": [
    {
     "name": "stdout",
     "output_type": "stream",
     "text": [
      "No slave found for 'mymaster'\n"
     ]
    }
   ],
   "source": [
    "# 没有slave则返回master,此时即使slave恢复连接，仍然返回master\n",
    "try:\n",
    "    slave.info()\n",
    "except redis.sentinel.SlaveNotFoundError as err:\n",
    "    print(err)"
   ]
  },
  {
   "cell_type": "code",
   "execution_count": 92,
   "metadata": {},
   "outputs": [
    {
     "data": {
      "text/plain": [
       "{'redis_version': '5.0.5',\n",
       " 'redis_git_sha1': 'c696aebd',\n",
       " 'redis_git_dirty': 0,\n",
       " 'redis_build_id': 'ac0bf58ff1f73689',\n",
       " 'redis_mode': 'standalone',\n",
       " 'os': 'Linux 4.15.0-50-generic x86_64',\n",
       " 'arch_bits': 64,\n",
       " 'multiplexing_api': 'epoll',\n",
       " 'atomicvar_api': 'atomic-builtin',\n",
       " 'gcc_version': '7.4.0',\n",
       " 'process_id': 1341,\n",
       " 'run_id': 'd5b1f1dad2d18aefdfba375038ea71a72a9a451d',\n",
       " 'tcp_port': 6379,\n",
       " 'uptime_in_seconds': 266,\n",
       " 'uptime_in_days': 0,\n",
       " 'hz': 10,\n",
       " 'configured_hz': 10,\n",
       " 'lru_clock': 16284643,\n",
       " 'executable': '/home/yushi/redis-sandboxes/redis-sentinel-scripts/redis-server',\n",
       " 'config_file': '/home/yushi/redis-sandboxes/6379/redis.conf',\n",
       " 'connected_clients': 8,\n",
       " 'client_recent_max_input_buffer': 4,\n",
       " 'client_recent_max_output_buffer': 0,\n",
       " 'blocked_clients': 0,\n",
       " 'used_memory': 764200,\n",
       " 'used_memory_human': '746.29K',\n",
       " 'used_memory_rss': 5816320,\n",
       " 'used_memory_rss_human': '5.55M',\n",
       " 'used_memory_peak': 1091920,\n",
       " 'used_memory_peak_human': '1.04M',\n",
       " 'used_memory_peak_perc': '69.99%',\n",
       " 'used_memory_overhead': 713952,\n",
       " 'used_memory_startup': 513032,\n",
       " 'used_memory_dataset': 50248,\n",
       " 'used_memory_dataset_perc': '20.01%',\n",
       " 'allocator_allocated': 751472,\n",
       " 'allocator_active': 1064960,\n",
       " 'allocator_resident': 3739648,\n",
       " 'total_system_memory': 5211918336,\n",
       " 'total_system_memory_human': '4.85G',\n",
       " 'used_memory_lua': 37888,\n",
       " 'used_memory_lua_human': '37.00K',\n",
       " 'used_memory_scripts': 0,\n",
       " 'used_memory_scripts_human': '0B',\n",
       " 'number_of_cached_scripts': 0,\n",
       " 'maxmemory': 0,\n",
       " 'maxmemory_human': '0B',\n",
       " 'maxmemory_policy': 'noeviction',\n",
       " 'allocator_frag_ratio': 1.42,\n",
       " 'allocator_frag_bytes': 313488,\n",
       " 'allocator_rss_ratio': 3.51,\n",
       " 'allocator_rss_bytes': 2674688,\n",
       " 'rss_overhead_ratio': 1.56,\n",
       " 'rss_overhead_bytes': 2076672,\n",
       " 'mem_fragmentation_ratio': 8.81,\n",
       " 'mem_fragmentation_bytes': 5156232,\n",
       " 'mem_not_counted_for_evict': 0,\n",
       " 'mem_replication_backlog': 0,\n",
       " 'mem_clients_slaves': 0,\n",
       " 'mem_clients_normal': 200920,\n",
       " 'mem_aof_buffer': 0,\n",
       " 'mem_allocator': 'jemalloc-5.1.0',\n",
       " 'active_defrag_running': 0,\n",
       " 'lazyfree_pending_objects': 0,\n",
       " 'loading': 0,\n",
       " 'rdb_changes_since_last_save': 0,\n",
       " 'rdb_bgsave_in_progress': 0,\n",
       " 'rdb_last_save_time': 1559788249,\n",
       " 'rdb_last_bgsave_status': 'ok',\n",
       " 'rdb_last_bgsave_time_sec': -1,\n",
       " 'rdb_current_bgsave_time_sec': -1,\n",
       " 'rdb_last_cow_size': 0,\n",
       " 'aof_enabled': 0,\n",
       " 'aof_rewrite_in_progress': 0,\n",
       " 'aof_rewrite_scheduled': 0,\n",
       " 'aof_last_rewrite_time_sec': -1,\n",
       " 'aof_current_rewrite_time_sec': -1,\n",
       " 'aof_last_bgrewrite_status': 'ok',\n",
       " 'aof_last_write_status': 'ok',\n",
       " 'aof_last_cow_size': 0,\n",
       " 'total_connections_received': 534,\n",
       " 'total_commands_processed': 3395,\n",
       " 'instantaneous_ops_per_sec': 13,\n",
       " 'total_net_input_bytes': 156982,\n",
       " 'total_net_output_bytes': 637535,\n",
       " 'instantaneous_input_kbps': 0.62,\n",
       " 'instantaneous_output_kbps': 0.77,\n",
       " 'rejected_connections': 0,\n",
       " 'sync_full': 0,\n",
       " 'sync_partial_ok': 0,\n",
       " 'sync_partial_err': 0,\n",
       " 'expired_keys': 0,\n",
       " 'expired_stale_perc': 0.0,\n",
       " 'expired_time_cap_reached_count': 0,\n",
       " 'evicted_keys': 0,\n",
       " 'keyspace_hits': 0,\n",
       " 'keyspace_misses': 0,\n",
       " 'pubsub_channels': 1,\n",
       " 'pubsub_patterns': 0,\n",
       " 'latest_fork_usec': 0,\n",
       " 'migrate_cached_sockets': 0,\n",
       " 'slave_expires_tracked_keys': 0,\n",
       " 'active_defrag_hits': 0,\n",
       " 'active_defrag_misses': 0,\n",
       " 'active_defrag_key_hits': 0,\n",
       " 'active_defrag_key_misses': 0,\n",
       " 'role': 'slave',\n",
       " 'master_host': 'MASTERIPPLACEHOLDER',\n",
       " 'master_port': 0,\n",
       " 'master_link_status': 'down',\n",
       " 'master_last_io_seconds_ago': -1,\n",
       " 'master_sync_in_progress': 0,\n",
       " 'slave_repl_offset': 1,\n",
       " 'master_link_down_since_seconds': 1559788515,\n",
       " 'slave_priority': 100,\n",
       " 'slave_read_only': 1,\n",
       " 'connected_slaves': 0,\n",
       " 'master_replid': 'db58449d27a44c1e8bfddbe78957d46a0c7fcc48',\n",
       " 'master_replid2': 0,\n",
       " 'master_repl_offset': 0,\n",
       " 'second_repl_offset': -1,\n",
       " 'repl_backlog_active': 0,\n",
       " 'repl_backlog_size': 1048576,\n",
       " 'repl_backlog_first_byte_offset': 0,\n",
       " 'repl_backlog_histlen': 0,\n",
       " 'used_cpu_sys': 0.347282,\n",
       " 'used_cpu_user': 0.243496,\n",
       " 'used_cpu_sys_children': 0.0,\n",
       " 'used_cpu_user_children': 0.0,\n",
       " 'cluster_enabled': 0}"
      ]
     },
     "execution_count": 92,
     "metadata": {},
     "output_type": "execute_result"
    }
   ],
   "source": [
    "r1.info()"
   ]
  }
 ],
 "metadata": {
  "kernelspec": {
   "display_name": "Python 3",
   "language": "python",
   "name": "python3"
  },
  "language_info": {
   "codemirror_mode": {
    "name": "ipython",
    "version": 3
   },
   "file_extension": ".py",
   "mimetype": "text/x-python",
   "name": "python",
   "nbconvert_exporter": "python",
   "pygments_lexer": "ipython3",
   "version": "3.6.7"
  }
 },
 "nbformat": 4,
 "nbformat_minor": 2
}
