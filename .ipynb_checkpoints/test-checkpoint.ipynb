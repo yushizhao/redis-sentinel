{
 "cells": [
  {
   "cell_type": "code",
   "execution_count": 76,
   "metadata": {},
   "outputs": [],
   "source": [
    "import redis\n",
    "import sys\n",
    "import os\n",
    "from redis.sentinel import Sentinel"
   ]
  },
  {
   "cell_type": "code",
   "execution_count": 10,
   "metadata": {},
   "outputs": [],
   "source": [
    "r1 = redis.Redis(host='localhost', port=6379, db=0)\n",
    "r2 = redis.Redis(host='localhost', port=6380, db=0)\n",
    "r3 = redis.Redis(host='localhost', port=6381, db=0)\n",
    "\n",
    "p1 = r1.pubsub()\n",
    "p2 = r2.pubsub()\n",
    "p3 = r3.pubsub()\n",
    "\n",
    "sentinel = Sentinel([('localhost', 26379),('localhost', 26380),('localhost', 26381)], socket_timeout=0.1)\n",
    "master = sentinel.master_for('mymaster', socket_timeout=0.1)\n",
    "slave = sentinel.slave_for('mymaster', socket_timeout=0.1)\n",
    "pmaster = master.pubsub()\n",
    "pslave = slave.pubsub()"
   ]
  },
  {
   "cell_type": "code",
   "execution_count": 61,
   "metadata": {},
   "outputs": [
    {
     "name": "stdout",
     "output_type": "stream",
     "text": [
      "('127.0.0.1', 6380)\n",
      "[('127.0.0.1', 6379), ('127.0.0.1', 6381)]\n"
     ]
    }
   ],
   "source": [
    "print(sentinel.discover_master('mymaster'))\n",
    "# MasterNotFoundError\n",
    "print(sentinel.discover_slaves('mymaster'))"
   ]
  },
  {
   "cell_type": "code",
   "execution_count": 80,
   "metadata": {},
   "outputs": [
    {
     "name": "stdout",
     "output_type": "stream",
     "text": [
      "No master found for 'mymaster'\n"
     ]
    }
   ],
   "source": [
    "try:\n",
    "    print(master.info())\n",
    "except redis.sentinel.MasterNotFoundError as err:\n",
    "    print(err)"
   ]
  },
  {
   "cell_type": "code",
   "execution_count": 83,
   "metadata": {},
   "outputs": [
    {
     "name": "stdout",
     "output_type": "stream",
     "text": [
      "No slave found for 'mymaster'\n"
     ]
    }
   ],
   "source": [
    "# 没有slave则返回master,此时即使slave恢复连接，仍然返回master\n",
    "try:\n",
    "    slave.info()\n",
    "except redis.sentinel.SlaveNotFoundError as err:\n",
    "    print(err)"
   ]
  }
 ],
 "metadata": {
  "kernelspec": {
   "display_name": "Python 3",
   "language": "python",
   "name": "python3"
  },
  "language_info": {
   "codemirror_mode": {
    "name": "ipython",
    "version": 3
   },
   "file_extension": ".py",
   "mimetype": "text/x-python",
   "name": "python",
   "nbconvert_exporter": "python",
   "pygments_lexer": "ipython3",
   "version": "3.6.7"
  }
 },
 "nbformat": 4,
 "nbformat_minor": 2
}
